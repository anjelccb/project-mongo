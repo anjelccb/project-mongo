{
 "cells": [
  {
   "cell_type": "code",
   "execution_count": 1,
   "metadata": {},
   "outputs": [],
   "source": [
    "from pymongo import MongoClient\n",
    "import pandas as pd"
   ]
  },
  {
   "cell_type": "code",
   "execution_count": 2,
   "metadata": {},
   "outputs": [],
   "source": [
    "client = MongoClient(\"mongodb://localhost:27017/\")"
   ]
  },
  {
   "cell_type": "code",
   "execution_count": 3,
   "metadata": {},
   "outputs": [],
   "source": [
    "db = client.companies\n"
   ]
  },
  {
   "cell_type": "code",
   "execution_count": null,
   "metadata": {},
   "outputs": [],
   "source": []
  },
  {
   "cell_type": "code",
   "execution_count": 105,
   "metadata": {},
   "outputs": [],
   "source": [
    "companies =                     db.companies.find({\"$and\":[\n",
    "                                {\"offices\": {\"$exists\": True}},\n",
    "                                {\"offices\": {\"$ne\": None}}, \n",
    "                                {\"category_code\": {\"$exists\": True}},\n",
    "                                #{\"category_code\": {\"$ne\": None}}, \n",
    "                                #{\"founded_year\": {\"$exists\": True}}, \n",
    "                                {\"founded_year\": {\"$gte\": 2009}},\n",
    "                                {\"number_of_employees\": {\"$exists\": True}},\n",
    "                                {\"number_of_employees\": {\"$gte\": 10}},\n",
    "                                {\"total_money_raised\": {\"$exists\": True}},\n",
    "                                {\"total_money_raised\":{\"$ne\":None}},\n",
    "                                {\"total_money_raised\": {\"$not\":{\"$size\":0}}}, \n",
    "                                {\"$or\": [\n",
    "                                    \n",
    "                                    {\"category_code\": \"design\" } ,\n",
    "                                    {\"category_code\": \"web\" } , \n",
    "                                    {\"category_code\": \"software\" } , \n",
    "                                    {\"category_code\": \"games_video\" } ,    \n",
    "                                    ]} ,\n",
    "                                      \n",
    "                                ]\n",
    "                                },\n",
    "                                \n",
    "                                # descartamos elementos que no interesan\n",
    "                                {\"_id\": 0, \"crunchbase_url\": 0, \"products\": 0, \n",
    "                                 \"acquisition\": 0, \"acquisitions\": 0, \"video_embeds\": 0, \n",
    "                                 \"screenshots\": 0, \"external_links\": 0, \"partners\": 0, \n",
    "                                 \"image\": 0, \"blog_feed_url\": 0, \"blog_url\":0, \"deadpooled_day\":0,\n",
    "                                 \"deadpooled_year\":0, \"deadpooled_month\":0, \"deadpooled_url\":0, \"ipo\":0,\n",
    "                                 \"permalink\":0, \"homepage_url\":0, \"tag_list\":0, \"email_addres\": 0, \"providerships\": 0,\n",
    "                                 \"milestones\": 0, \"twitter_username\": 0, \"updated_at\": 0, \"email_address\":0\n",
    "                                }\n",
    "                                     )"
   ]
  },
  {
   "cell_type": "code",
   "execution_count": 106,
   "metadata": {},
   "outputs": [
    {
     "data": {
      "text/plain": [
       "<pymongo.cursor.Cursor at 0x1c436cf2128>"
      ]
     },
     "execution_count": 106,
     "metadata": {},
     "output_type": "execute_result"
    }
   ],
   "source": [
    "companies"
   ]
  },
  {
   "cell_type": "code",
   "execution_count": 107,
   "metadata": {},
   "outputs": [],
   "source": [
    "df_companies = pd.DataFrame(companies)"
   ]
  },
  {
   "cell_type": "code",
   "execution_count": 108,
   "metadata": {},
   "outputs": [
    {
     "data": {
      "text/plain": [
       "(65, 17)"
      ]
     },
     "execution_count": 108,
     "metadata": {},
     "output_type": "execute_result"
    }
   ],
   "source": [
    "df_companies.shape"
   ]
  },
  {
   "cell_type": "code",
   "execution_count": null,
   "metadata": {},
   "outputs": [],
   "source": []
  },
  {
   "cell_type": "code",
   "execution_count": null,
   "metadata": {},
   "outputs": [],
   "source": []
  },
  {
   "cell_type": "code",
   "execution_count": 109,
   "metadata": {},
   "outputs": [
    {
     "data": {
      "text/plain": [
       "alias_list             24\n",
       "category_code           0\n",
       "competitions            0\n",
       "created_at              0\n",
       "description             0\n",
       "founded_day            24\n",
       "founded_month          14\n",
       "founded_year            0\n",
       "funding_rounds          0\n",
       "investments             0\n",
       "name                    0\n",
       "number_of_employees     0\n",
       "offices                 0\n",
       "overview                0\n",
       "phone_number            0\n",
       "relationships           0\n",
       "total_money_raised      0\n",
       "dtype: int64"
      ]
     },
     "execution_count": 109,
     "metadata": {},
     "output_type": "execute_result"
    }
   ],
   "source": [
    "df_companies.isnull().sum()"
   ]
  },
  {
   "cell_type": "code",
   "execution_count": null,
   "metadata": {},
   "outputs": [],
   "source": []
  },
  {
   "cell_type": "code",
   "execution_count": 102,
   "metadata": {},
   "outputs": [
    {
     "data": {
      "text/plain": [
       "web            29\n",
       "software       24\n",
       "games_video    12\n",
       "Name: category_code, dtype: int64"
      ]
     },
     "execution_count": 102,
     "metadata": {},
     "output_type": "execute_result"
    }
   ],
   "source": [
    "df_companies[\"category_code\"].value_counts()"
   ]
  },
  {
   "cell_type": "code",
   "execution_count": null,
   "metadata": {},
   "outputs": [],
   "source": []
  },
  {
   "cell_type": "code",
   "execution_count": 103,
   "metadata": {},
   "outputs": [],
   "source": [
    "latitude = db.companies.find({},{\"offices.latitude\":1})\n"
   ]
  },
  {
   "cell_type": "code",
   "execution_count": 104,
   "metadata": {},
   "outputs": [],
   "source": [
    "latitude = pd.DataFrame(latitude)"
   ]
  },
  {
   "cell_type": "code",
   "execution_count": 12,
   "metadata": {},
   "outputs": [],
   "source": [
    "longitude = db.companies.find({},{\"offices.longitude\":1})"
   ]
  },
  {
   "cell_type": "code",
   "execution_count": 24,
   "metadata": {},
   "outputs": [],
   "source": [
    "longitude = pd.DataFrame(longitude)\n"
   ]
  },
  {
   "cell_type": "code",
   "execution_count": 14,
   "metadata": {},
   "outputs": [
    {
     "data": {
      "text/plain": [
       "<pymongo.cursor.Cursor at 0x1c430dffcc0>"
      ]
     },
     "execution_count": 14,
     "metadata": {},
     "output_type": "execute_result"
    }
   ],
   "source": [
    "companies"
   ]
  },
  {
   "cell_type": "code",
   "execution_count": 29,
   "metadata": {},
   "outputs": [],
   "source": [
    "def geopoint(x): \n",
    "    for dic in x:\n",
    "        latitude = dic[\"latitude\"]\n",
    "        longitude = dic[\"longitude\"]\n",
    "        \n",
    "    \n",
    "        return {\"type\": \"Point\", \"coordinates\": (latitude,longitude)}\n",
    "\n",
    "df_companies['geo']= df_companies['offices'].apply(geopoint)\n",
    "\n"
   ]
  },
  {
   "cell_type": "code",
   "execution_count": 36,
   "metadata": {},
   "outputs": [
    {
     "data": {
      "text/plain": [
       "{'type': 'Point', 'coordinates': (37.692934, -121.904945)}"
      ]
     },
     "execution_count": 36,
     "metadata": {},
     "output_type": "execute_result"
    }
   ],
   "source": [
    "df_companies.geo[0]\n"
   ]
  },
  {
   "cell_type": "code",
   "execution_count": null,
   "metadata": {},
   "outputs": [],
   "source": []
  }
 ],
 "metadata": {
  "kernelspec": {
   "display_name": "Python 3",
   "language": "python",
   "name": "python3"
  },
  "language_info": {
   "codemirror_mode": {
    "name": "ipython",
    "version": 3
   },
   "file_extension": ".py",
   "mimetype": "text/x-python",
   "name": "python",
   "nbconvert_exporter": "python",
   "pygments_lexer": "ipython3",
   "version": "3.7.3"
  }
 },
 "nbformat": 4,
 "nbformat_minor": 2
}
